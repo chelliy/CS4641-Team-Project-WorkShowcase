{
  "nbformat": 4,
  "nbformat_minor": 5,
  "metadata": {
    "kernelspec": {
      "display_name": "Python 3",
      "language": "python",
      "name": "python3"
    },
    "language_info": {
      "codemirror_mode": {
        "name": "ipython",
        "version": 3
      },
      "file_extension": ".py",
      "mimetype": "text/x-python",
      "name": "python",
      "nbconvert_exporter": "python",
      "pygments_lexer": "ipython3",
      "version": "3.8.8"
    },
    "colab": {
      "name": "College Football Draft Pick Projection.ipynb",
      "provenance": []
    }
  },
  "cells": [
    {
      "cell_type": "code",
      "metadata": {
        "colab": {
          "base_uri": "https://localhost:8080/"
        },
        "id": "6e78bf9e",
        "outputId": "06b03d16-de88-49ff-94f1-a92b1443f96e"
      },
      "source": [
        "import numpy as np\n",
        "import sklearn.metrics\n",
        "from pythonML import *\n",
        "import matplotlib.pyplot as plt\n",
        "from sklearn.naive_bayes import MultinomialNB\n",
        "import csv"
      ],
      "id": "6e78bf9e",
      "execution_count": null,
      "outputs": [
        {
          "output_type": "stream",
          "name": "stdout",
          "text": [
            "-0.037918579195789004\n"
          ]
        }
      ]
    },
    {
      "cell_type": "markdown",
      "metadata": {
        "id": "sHATtstjBK4d"
      },
      "source": [
        "## Data Preprocessing"
      ],
      "id": "sHATtstjBK4d"
    },
    {
      "cell_type": "code",
      "metadata": {
        "id": "NCPYUoIWBKQo"
      },
      "source": [
        "all_college_qbs = np.array(np.zeros(9))\n",
        "with open('all_college_qbs.csv') as csv_file:\n",
        "    csv_reader = csv.reader(csv_file, delimiter=',')\n",
        "    line_count = 0\n",
        "    for row in csv_reader:\n",
        "      if (row[0] == \"\\ufeffCase Keenum\"):\n",
        "        row[0] = \"Case Keenum\"\n",
        "      all_college_qbs = np.vstack((all_college_qbs, row))\n",
        "all_college_qbs = all_college_qbs[1:]\n",
        "print(all_college_qbs)"
      ],
      "id": "NCPYUoIWBKQo",
      "execution_count": null,
      "outputs": []
    },
    {
      "cell_type": "code",
      "metadata": {
        "id": "WmmDt9duDOak"
      },
      "source": [
        "all_drafted_qbs = np.array(np.zeros(2))\n",
        "with open('all_drafted_qbs.csv') as csv_file:\n",
        "    csv_reader = csv.reader(csv_file, delimiter=',')\n",
        "    line_count = 0\n",
        "    for row in csv_reader:\n",
        "      if (row[0] == \"\\ufeffTrevor Lawrence\"):\n",
        "        row[0] = \"Trevor Lawrence\"\n",
        "      all_drafted_qbs = np.vstack((all_drafted_qbs, row))\n",
        "all_drafted_qbs = all_drafted_qbs[1:]\n",
        "print(all_drafted_qbs)"
      ],
      "id": "WmmDt9duDOak",
      "execution_count": null,
      "outputs": []
    },
    {
      "cell_type": "code",
      "metadata": {
        "colab": {
          "base_uri": "https://localhost:8080/",
          "height": 236
        },
        "id": "WMDy5alwDjPz",
        "outputId": "6f38612f-e57a-43f9-af6a-da37c773c4db"
      },
      "source": [
        "new_all_drafted_qbs = np.zeros(10)\n",
        "for qb in all_college_qbs:\n",
        "  if qb[0] in all_drafted_qbs[:, 0]:\n",
        "    new_row = np.concatenate((qb[0], all_college_qbs[qb[0] == all_college_qbs, 1:]))\n",
        "    new_row = np.concatenate((new_row, qb[1]))\n",
        "    new_all_drafted_qbs = np.vstack((new_all_drafted_qbs, new_row))\n",
        "print(new_all_drafted_qbs)"
      ],
      "id": "WMDy5alwDjPz",
      "execution_count": null,
      "outputs": [
        {
          "output_type": "error",
          "ename": "IndexError",
          "evalue": "ignored",
          "traceback": [
            "\u001b[0;31m---------------------------------------------------------------------------\u001b[0m",
            "\u001b[0;31mIndexError\u001b[0m                                Traceback (most recent call last)",
            "\u001b[0;32m<ipython-input-24-97e5216d7819>\u001b[0m in \u001b[0;36m<module>\u001b[0;34m()\u001b[0m\n\u001b[1;32m      2\u001b[0m \u001b[0;32mfor\u001b[0m \u001b[0mqb\u001b[0m \u001b[0;32min\u001b[0m \u001b[0mall_college_qbs\u001b[0m\u001b[0;34m:\u001b[0m\u001b[0;34m\u001b[0m\u001b[0;34m\u001b[0m\u001b[0m\n\u001b[1;32m      3\u001b[0m   \u001b[0;32mif\u001b[0m \u001b[0mqb\u001b[0m\u001b[0;34m[\u001b[0m\u001b[0;36m0\u001b[0m\u001b[0;34m]\u001b[0m \u001b[0;32min\u001b[0m \u001b[0mall_drafted_qbs\u001b[0m\u001b[0;34m[\u001b[0m\u001b[0;34m:\u001b[0m\u001b[0;34m,\u001b[0m \u001b[0;36m0\u001b[0m\u001b[0;34m]\u001b[0m\u001b[0;34m:\u001b[0m\u001b[0;34m\u001b[0m\u001b[0;34m\u001b[0m\u001b[0m\n\u001b[0;32m----> 4\u001b[0;31m     \u001b[0mnew_row\u001b[0m \u001b[0;34m=\u001b[0m \u001b[0mnp\u001b[0m\u001b[0;34m.\u001b[0m\u001b[0mconcatenate\u001b[0m\u001b[0;34m(\u001b[0m\u001b[0;34m(\u001b[0m\u001b[0mqb\u001b[0m\u001b[0;34m[\u001b[0m\u001b[0;36m0\u001b[0m\u001b[0;34m]\u001b[0m\u001b[0;34m,\u001b[0m \u001b[0mall_college_qbs\u001b[0m\u001b[0;34m[\u001b[0m\u001b[0mqb\u001b[0m\u001b[0;34m[\u001b[0m\u001b[0;36m0\u001b[0m\u001b[0;34m]\u001b[0m \u001b[0;34m==\u001b[0m \u001b[0mall_college_qbs\u001b[0m\u001b[0;34m,\u001b[0m \u001b[0;36m1\u001b[0m\u001b[0;34m:\u001b[0m\u001b[0;34m]\u001b[0m\u001b[0;34m)\u001b[0m\u001b[0;34m)\u001b[0m\u001b[0;34m\u001b[0m\u001b[0;34m\u001b[0m\u001b[0m\n\u001b[0m\u001b[1;32m      5\u001b[0m     \u001b[0mnew_row\u001b[0m \u001b[0;34m=\u001b[0m \u001b[0mnp\u001b[0m\u001b[0;34m.\u001b[0m\u001b[0mconcatenate\u001b[0m\u001b[0;34m(\u001b[0m\u001b[0;34m(\u001b[0m\u001b[0mnew_row\u001b[0m\u001b[0;34m,\u001b[0m \u001b[0mqb\u001b[0m\u001b[0;34m[\u001b[0m\u001b[0;36m1\u001b[0m\u001b[0;34m]\u001b[0m\u001b[0;34m)\u001b[0m\u001b[0;34m)\u001b[0m\u001b[0;34m\u001b[0m\u001b[0;34m\u001b[0m\u001b[0m\n\u001b[1;32m      6\u001b[0m     \u001b[0mnew_all_drafted_qbs\u001b[0m \u001b[0;34m=\u001b[0m \u001b[0mnp\u001b[0m\u001b[0;34m.\u001b[0m\u001b[0mvstack\u001b[0m\u001b[0;34m(\u001b[0m\u001b[0;34m(\u001b[0m\u001b[0mnew_all_drafted_qbs\u001b[0m\u001b[0;34m,\u001b[0m \u001b[0mnew_row\u001b[0m\u001b[0;34m)\u001b[0m\u001b[0;34m)\u001b[0m\u001b[0;34m\u001b[0m\u001b[0;34m\u001b[0m\u001b[0m\n",
            "\u001b[0;31mIndexError\u001b[0m: too many indices for array: array is 2-dimensional, but 3 were indexed"
          ]
        }
      ]
    },
    {
      "cell_type": "markdown",
      "metadata": {
        "id": "49773833"
      },
      "source": [
        "# Linear Regression"
      ],
      "id": "49773833"
    },
    {
      "cell_type": "markdown",
      "metadata": {
        "id": "414109de"
      },
      "source": [
        "## Quarterbacks"
      ],
      "id": "414109de"
    },
    {
      "cell_type": "code",
      "metadata": {
        "id": "517be7c8"
      },
      "source": [
        "datasetQB = np.genfromtxt('quarterbacks.csv', delimiter=',')\n",
        "x = pcaReduce(datasetQB[1:,1:-1],2)\n",
        "y = datasetQB[1:,-1]\n",
        "weights = linear_fit_closed(x[:50, :],y[:50])\n"
      ],
      "id": "517be7c8",
      "execution_count": null,
      "outputs": []
    },
    {
      "cell_type": "code",
      "metadata": {
        "id": "7a13cb7c",
        "outputId": "7f9fad8d-3fea-4046-e05b-f28ca88e91f7"
      },
      "source": [
        "#weights = ridge_fit_closed(x[0:500,:],y[0:500],1.5)\n",
        "predictions = predict(x[50:,:], weights)\n",
        "error = sklearn.metrics.r2_score(y[50:],predictions)\n",
        "print(error)"
      ],
      "id": "7a13cb7c",
      "execution_count": null,
      "outputs": [
        {
          "name": "stdout",
          "output_type": "stream",
          "text": [
            "-0.3555291576622279\n"
          ]
        }
      ]
    },
    {
      "cell_type": "markdown",
      "metadata": {
        "id": "cbf745a1"
      },
      "source": [
        "## Running Backs"
      ],
      "id": "cbf745a1"
    },
    {
      "cell_type": "code",
      "metadata": {
        "id": "03b7fa0f"
      },
      "source": [
        "datasetQB = np.genfromtxt('running_backs.csv', delimiter=',')\n",
        "x = pcaReduce(datasetQB[1:,1:-1],2)\n",
        "y = datasetQB[1:,-1]\n",
        "weights = linear_fit_closed(x[:70, :],y[:70])"
      ],
      "id": "03b7fa0f",
      "execution_count": null,
      "outputs": []
    },
    {
      "cell_type": "code",
      "metadata": {
        "id": "6ff99a51",
        "outputId": "51f7f736-2ca7-4535-b864-1a8e92bf270d"
      },
      "source": [
        "weights = ridge_fit_closed(x[0:70,:],y[0:70],1.5)\n",
        "predictions = predict(x[70:,:], weights)\n",
        "error = sklearn.metrics.r2_score(y[70:],predictions)\n",
        "print(error)"
      ],
      "id": "6ff99a51",
      "execution_count": null,
      "outputs": [
        {
          "name": "stdout",
          "output_type": "stream",
          "text": [
            "-1.5027454850356414\n"
          ]
        }
      ]
    },
    {
      "cell_type": "markdown",
      "metadata": {
        "id": "f37757b4"
      },
      "source": [
        "## Wide Receivers"
      ],
      "id": "f37757b4"
    },
    {
      "cell_type": "code",
      "metadata": {
        "id": "d1ce75de"
      },
      "source": [
        "datasetQB = np.genfromtxt('wide_receivers.csv', delimiter=',')\n",
        "x = pcaReduce(datasetQB[1:,1:-1],2)\n",
        "y = datasetQB[1:,-1]\n",
        "weights = linear_fit_closed(x[:150, :],y[:150])"
      ],
      "id": "d1ce75de",
      "execution_count": null,
      "outputs": []
    },
    {
      "cell_type": "code",
      "metadata": {
        "id": "aea65125",
        "outputId": "00d54c5d-9ac7-4a90-a052-23456fb93798"
      },
      "source": [
        "#weights = ridge_fit_closed(x[0:500,:],y[0:500],1.5)\n",
        "predictions = predict(x[150:,:], weights)\n",
        "error = sklearn.metrics.r2_score(y[150:],predictions)\n",
        "print(error)"
      ],
      "id": "aea65125",
      "execution_count": null,
      "outputs": [
        {
          "name": "stdout",
          "output_type": "stream",
          "text": [
            "-0.8056000693211256\n"
          ]
        }
      ]
    },
    {
      "cell_type": "markdown",
      "metadata": {
        "id": "3067e8d3"
      },
      "source": [
        "## Tight Ends"
      ],
      "id": "3067e8d3"
    },
    {
      "cell_type": "code",
      "metadata": {
        "id": "076583a4"
      },
      "source": [
        "datasetQB = np.genfromtxt('tight_ends.csv', delimiter=',')\n",
        "x = pcaReduce(datasetQB[1:,1:-1],2)\n",
        "y = datasetQB[1:,-1]\n",
        "weights = linear_fit_closed(x[:50, :],y[:50])"
      ],
      "id": "076583a4",
      "execution_count": null,
      "outputs": []
    },
    {
      "cell_type": "code",
      "metadata": {
        "id": "8f81016b",
        "outputId": "31bcec10-fca0-439e-853d-ab8f4347df33"
      },
      "source": [
        "#weights = ridge_fit_closed(x[0:500,:],y[0:500],1.5)\n",
        "predictions = predict(x[50:,:], weights)\n",
        "error = sklearn.metrics.r2_score(y[50:],predictions)\n",
        "print(error)"
      ],
      "id": "8f81016b",
      "execution_count": null,
      "outputs": [
        {
          "name": "stdout",
          "output_type": "stream",
          "text": [
            "-1.43705117854137\n"
          ]
        }
      ]
    },
    {
      "cell_type": "markdown",
      "metadata": {
        "id": "54fdb564"
      },
      "source": [
        "# Adjusting our Dataset"
      ],
      "id": "54fdb564"
    },
    {
      "cell_type": "markdown",
      "metadata": {
        "id": "mCx7S84i74RP"
      },
      "source": [
        "## Quarterbacks"
      ],
      "id": "mCx7S84i74RP"
    },
    {
      "cell_type": "code",
      "metadata": {
        "id": "86c8bd96",
        "colab": {
          "base_uri": "https://localhost:8080/"
        },
        "outputId": "ba7fab52-bd6a-4127-d538-5038d3e18fa0"
      },
      "source": [
        "all_college_qbs = np.array(np.zeros(9))\n",
        "with open('all_college_qbs.csv') as csv_file:\n",
        "    csv_reader = csv.reader(csv_file, delimiter=',')\n",
        "    line_count = 0\n",
        "    for row in csv_reader:\n",
        "      if (row[0] == \"\\ufeffCase Keenum\"):\n",
        "        row[0] = \"Case Keenum\"\n",
        "      all_college_qbs = np.vstack((all_college_qbs, row))\n",
        "all_college_qbs = all_college_qbs[1:]\n",
        "print(all_college_qbs)"
      ],
      "id": "86c8bd96",
      "execution_count": null,
      "outputs": [
        {
          "output_type": "stream",
          "name": "stdout",
          "text": [
            "[['Case Keenum' '57' '1546' ... '155' '46' '160.6']\n",
            " ['Luke Falk' '42' '1403' ... '119' '39' '142.8']\n",
            " ['Graham Harrell' '45' '1403' ... '134' '34' '154.4']\n",
            " ...\n",
            " ['Keenen Johnson' '41' '2' ... '0' '0' '115.1']\n",
            " ['Luke Johnson' '37' '2' ... '0' '0' '159.1']\n",
            " ['Zach Johnson' '39' '2' ... '0' '0' '205']]\n"
          ]
        }
      ]
    },
    {
      "cell_type": "code",
      "metadata": {
        "id": "59a0d7b0"
      },
      "source": [
        "all_drafted_qbs = np.array(np.zeros(2))\n",
        "with open('all_drafted_qbs.csv') as csv_file:\n",
        "    csv_reader = csv.reader(csv_file, delimiter=',')\n",
        "    line_count = 0\n",
        "    for row in csv_reader:\n",
        "      if (row[0] == \"\\ufeffTrevor Lawrence\"):\n",
        "        row[0] = \"Trevor Lawrence\"\n",
        "      all_drafted_qbs = np.vstack((all_drafted_qbs, row))\n",
        "all_drafted_qbs = all_drafted_qbs[1:]\n",
        "print(all_drafted_qbs)"
      ],
      "id": "59a0d7b0",
      "execution_count": null,
      "outputs": []
    },
    {
      "cell_type": "code",
      "metadata": {
        "colab": {
          "base_uri": "https://localhost:8080/"
        },
        "id": "7pfNSvHTWXPX",
        "outputId": "3500d86a-c747-46e5-84e4-d7666feec132"
      },
      "source": [
        "new_all_drafted_qbs = np.zeros(10)\n",
        "for qb in all_college_qbs:\n",
        "  new_row = qb\n",
        "  if qb[0] in all_drafted_qbs[:, 0]:\n",
        "    new_row = np.concatenate((new_row, np.array([1])))\n",
        "  else:\n",
        "    new_row = np.concatenate((new_row, np.array([0])))\n",
        "  new_all_drafted_qbs = np.vstack((new_all_drafted_qbs, new_row))\n",
        "new_all_drafted_qbs = new_all_drafted_qbs[1:, :]\n",
        "print(new_all_drafted_qbs)"
      ],
      "id": "7pfNSvHTWXPX",
      "execution_count": null,
      "outputs": [
        {
          "output_type": "stream",
          "name": "stdout",
          "text": [
            "[['Case Keenum' '57' '1546' ... '46' '160.6' '0']\n",
            " ['Luke Falk' '42' '1403' ... '39' '142.8' '1']\n",
            " ['Graham Harrell' '45' '1403' ... '34' '154.4' '0']\n",
            " ...\n",
            " ['Keenen Johnson' '41' '2' ... '0' '115.1' '0']\n",
            " ['Luke Johnson' '37' '2' ... '0' '159.1' '0']\n",
            " ['Zach Johnson' '39' '2' ... '0' '205' '0']]\n"
          ]
        }
      ]
    },
    {
      "cell_type": "code",
      "metadata": {
        "id": "PKdvDwQ-YrEc"
      },
      "source": [
        "with open('quarterbacks.csv', 'w', newline='') as f:\n",
        "    writer = csv.writer(f)\n",
        "    writer.writerows(new_all_drafted_qbs)"
      ],
      "id": "PKdvDwQ-YrEc",
      "execution_count": null,
      "outputs": []
    },
    {
      "cell_type": "code",
      "metadata": {
        "id": "z6aTdgG_2Rla"
      },
      "source": [
        "from sklearn.model_selection import train_test_split\n",
        "from sklearn.ensemble import RandomForestClassifier\n",
        "from sklearn.naive_bayes import GaussianNB"
      ],
      "id": "z6aTdgG_2Rla",
      "execution_count": null,
      "outputs": []
    },
    {
      "cell_type": "code",
      "metadata": {
        "id": "Vm8zEFxk2aEu"
      },
      "source": [
        "X_train, X_test, y_train, y_test= train_test_split(x,y, test_size=0.2)"
      ],
      "id": "Vm8zEFxk2aEu",
      "execution_count": null,
      "outputs": []
    },
    {
      "cell_type": "code",
      "metadata": {
        "colab": {
          "base_uri": "https://localhost:8080/"
        },
        "id": "-_SuuMot3H5_",
        "outputId": "bf42a247-a944-4274-a4a9-5f571794e01d"
      },
      "source": [
        "print(X_train)"
      ],
      "id": "-_SuuMot3H5_",
      "execution_count": null,
      "outputs": [
        {
          "output_type": "stream",
          "name": "stdout",
          "text": [
            "[['4' '5' '12' ... '0' '0' '92.8']\n",
            " ['26' '123' '221' ... '5' '5' '116.4']\n",
            " ['26' '579' '917' ... '70' '19' '157.1']\n",
            " ...\n",
            " ['38' '398' '645' ... '30' '18' '133.3']\n",
            " ['7' '3' '6' ... '0' '2' '28.1']\n",
            " ['8' '37' '69' ... '5' '3' '129']]\n"
          ]
        }
      ]
    },
    {
      "cell_type": "markdown",
      "metadata": {
        "id": "Gek_YsZf7w7C"
      },
      "source": [
        "### Random Forest"
      ],
      "id": "Gek_YsZf7w7C"
    },
    {
      "cell_type": "code",
      "metadata": {
        "colab": {
          "base_uri": "https://localhost:8080/"
        },
        "id": "STd_4h3y3iCP",
        "outputId": "2a53d478-f2da-4ba9-a9b7-c8f9831dc1b2"
      },
      "source": [
        "clf = RandomForestClassifier(max_depth=2, random_state=0)\n",
        "clf.fit(X_train, y_train)\n",
        "y_pred = clf.predict(X_test)\n",
        "print(\"Accuracy: \", len(np.argwhere(y_pred == y_test)) / len(y_test))"
      ],
      "id": "STd_4h3y3iCP",
      "execution_count": null,
      "outputs": [
        {
          "output_type": "stream",
          "name": "stdout",
          "text": [
            "Accuracy:  0.94\n"
          ]
        }
      ]
    },
    {
      "cell_type": "markdown",
      "metadata": {
        "id": "AcGBVK177-Vi"
      },
      "source": [
        "### Naive Bayes"
      ],
      "id": "AcGBVK177-Vi"
    },
    {
      "cell_type": "code",
      "metadata": {
        "id": "i3AEmUSq8G90",
        "colab": {
          "base_uri": "https://localhost:8080/"
        },
        "outputId": "0a646e39-dd86-4620-d348-18322663d67e"
      },
      "source": [
        "clf = GaussianNB()\n",
        "clf.fit(X_train, y_train)\n",
        "y_pred = clf.predict(X_test)\n",
        "print(\"Accuracy: \", len(np.argwhere(y_pred == y_test)) / len(y_test))"
      ],
      "id": "i3AEmUSq8G90",
      "execution_count": null,
      "outputs": [
        {
          "output_type": "stream",
          "name": "stdout",
          "text": [
            "Accuracy:  0.845\n"
          ]
        },
        {
          "output_type": "stream",
          "name": "stderr",
          "text": [
            "/usr/local/lib/python3.7/dist-packages/sklearn/utils/validation.py:968: FutureWarning: Arrays of bytes/strings is being converted to decimal numbers if dtype='numeric'. This behavior is deprecated in 0.24 and will be removed in 1.1 (renaming of 0.26). Please convert your data to numeric values explicitly instead.\n",
            "  estimator=estimator,\n",
            "/usr/local/lib/python3.7/dist-packages/sklearn/base.py:561: FutureWarning: Arrays of bytes/strings is being converted to decimal numbers if dtype='numeric'. This behavior is deprecated in 0.24 and will be removed in 1.1 (renaming of 0.26). Please convert your data to numeric values explicitly instead.\n",
            "  X = check_array(X, **check_params)\n"
          ]
        }
      ]
    },
    {
      "cell_type": "markdown",
      "metadata": {
        "id": "LIpNhgbU4PAu"
      },
      "source": [
        "## Running Backs"
      ],
      "id": "LIpNhgbU4PAu"
    },
    {
      "cell_type": "code",
      "metadata": {
        "id": "-Gp3VteX4RYk",
        "colab": {
          "base_uri": "https://localhost:8080/"
        },
        "outputId": "7977dc53-3188-4c23-ed1c-21569777bf42"
      },
      "source": [
        "all_college_rbs = np.array(np.zeros(6))\n",
        "with open('all_college_running_backs.csv') as csv_file:\n",
        "    csv_reader = csv.reader(csv_file, delimiter=',')\n",
        "    line_count = 0\n",
        "    for row in csv_reader:\n",
        "      all_college_rbs = np.vstack((all_college_rbs, row))\n",
        "all_college_rbs = all_college_rbs[1:]\n",
        "print(all_college_rbs)"
      ],
      "id": "-Gp3VteX4RYk",
      "execution_count": null,
      "outputs": [
        {
          "output_type": "stream",
          "name": "stdout",
          "text": [
            "[['Donnel Pumphrey' '54' '1059' '6405' '6.0' '62']\n",
            " ['Jonathan Taylor' '41' '926' '6174' '6.7' '50']\n",
            " ['DeAngelo Williams' '44' '969' '6026' '6.2' '55']\n",
            " ...\n",
            " ['Ikaika Ragsdale' '10' '89' '511' '5.7' '5']\n",
            " ['Brandon Russell' '34' '147' '511' '3.5' '3']\n",
            " ['Mikale Wilbon' '24' '116' '510' '4.4' '6']]\n"
          ]
        }
      ]
    },
    {
      "cell_type": "code",
      "metadata": {
        "id": "qCP1-R9C5kKy"
      },
      "source": [
        "all_drafted_rbs = np.array(np.zeros(1))\n",
        "with open('drafted_running_backs.txt') as csv_file:\n",
        "    csv_reader = csv.reader(csv_file, delimiter=',')\n",
        "    line_count = 0\n",
        "    for row in csv_reader:\n",
        "      all_drafted_rbs = np.vstack((all_drafted_rbs, row))\n",
        "all_drafted_rbs = all_drafted_rbs[1:]\n",
        "print(all_drafted_rbs)"
      ],
      "id": "qCP1-R9C5kKy",
      "execution_count": null,
      "outputs": []
    },
    {
      "cell_type": "code",
      "metadata": {
        "id": "rvvnFUuj7RO6",
        "colab": {
          "base_uri": "https://localhost:8080/"
        },
        "outputId": "b9d46446-2445-4834-a379-1454542887ed"
      },
      "source": [
        "new_all_drafted_rbs = np.zeros(7)\n",
        "for rb in all_college_rbs:\n",
        "  new_row = rb\n",
        "  if rb[0] in all_drafted_rbs[:, 0]:\n",
        "    new_row = np.concatenate((new_row, np.array([1])))\n",
        "  else:\n",
        "    new_row = np.concatenate((new_row, np.array([0])))\n",
        "  new_all_drafted_rbs = np.vstack((new_all_drafted_rbs, new_row))\n",
        "new_all_drafted_rbs = new_all_drafted_rbs[1:, :]\n",
        "print(new_all_drafted_rbs)"
      ],
      "id": "rvvnFUuj7RO6",
      "execution_count": null,
      "outputs": [
        {
          "output_type": "stream",
          "name": "stdout",
          "text": [
            "[['Donnel Pumphrey' '54' '1059' ... '6.0' '62' '1']\n",
            " ['Jonathan Taylor' '41' '926' ... '6.7' '50' '1']\n",
            " ['DeAngelo Williams' '44' '969' ... '6.2' '55' '1']\n",
            " ...\n",
            " ['Ikaika Ragsdale' '10' '89' ... '5.7' '5' '0']\n",
            " ['Brandon Russell' '34' '147' ... '3.5' '3' '0']\n",
            " ['Mikale Wilbon' '24' '116' ... '4.4' '6' '0']]\n"
          ]
        }
      ]
    },
    {
      "cell_type": "code",
      "metadata": {
        "id": "61btoutc7sxv"
      },
      "source": [
        "with open('running_backs.csv', 'w', newline='') as f:\n",
        "    writer = csv.writer(f)\n",
        "    writer.writerows(new_all_drafted_rbs)"
      ],
      "id": "61btoutc7sxv",
      "execution_count": null,
      "outputs": []
    },
    {
      "cell_type": "markdown",
      "metadata": {
        "id": "9Mcom5sS8a6o"
      },
      "source": [
        "### Random Forest"
      ],
      "id": "9Mcom5sS8a6o"
    },
    {
      "cell_type": "code",
      "metadata": {
        "id": "1U5N3Hwj6m6m"
      },
      "source": [
        "X_train, X_test, y_train, y_test= train_test_split(new_all_drafted_rbs[:, 1:-1], new_all_drafted_rbs[:, -1], test_size=0.2)"
      ],
      "id": "1U5N3Hwj6m6m",
      "execution_count": null,
      "outputs": []
    },
    {
      "cell_type": "code",
      "metadata": {
        "colab": {
          "base_uri": "https://localhost:8080/"
        },
        "id": "F_eIzRpL6scK",
        "outputId": "871b77cd-2ff9-45c4-e8ad-9bfb62b2d97e"
      },
      "source": [
        "clf = RandomForestClassifier(max_depth=2, random_state=0)\n",
        "clf.fit(X_train, y_train)"
      ],
      "id": "F_eIzRpL6scK",
      "execution_count": null,
      "outputs": [
        {
          "output_type": "execute_result",
          "data": {
            "text/plain": [
              "RandomForestClassifier(max_depth=2, random_state=0)"
            ]
          },
          "metadata": {},
          "execution_count": 169
        }
      ]
    },
    {
      "cell_type": "code",
      "metadata": {
        "id": "zGaYTk_F6xJd"
      },
      "source": [
        "y_pred = clf.predict(X_test)"
      ],
      "id": "zGaYTk_F6xJd",
      "execution_count": null,
      "outputs": []
    },
    {
      "cell_type": "code",
      "metadata": {
        "colab": {
          "base_uri": "https://localhost:8080/"
        },
        "id": "DgS-spcY6yoi",
        "outputId": "fc0213b0-e8ea-40fd-8c12-f9fc5aec0cba"
      },
      "source": [
        "print(\"Accuracy: \", len(np.argwhere(y_pred == y_test)) / len(y_test))"
      ],
      "id": "DgS-spcY6yoi",
      "execution_count": null,
      "outputs": [
        {
          "output_type": "stream",
          "name": "stdout",
          "text": [
            "Accuracy:  0.8870967741935484\n"
          ]
        }
      ]
    },
    {
      "cell_type": "markdown",
      "metadata": {
        "id": "hkAQ31fW8eT8"
      },
      "source": [
        "### Naive Bayes"
      ],
      "id": "hkAQ31fW8eT8"
    },
    {
      "cell_type": "code",
      "metadata": {
        "id": "rV-XV7DY8h7c"
      },
      "source": [
        "gnb = GaussianNB()"
      ],
      "id": "rV-XV7DY8h7c",
      "execution_count": null,
      "outputs": []
    },
    {
      "cell_type": "code",
      "metadata": {
        "colab": {
          "base_uri": "https://localhost:8080/"
        },
        "id": "vRk5diGe8lOp",
        "outputId": "1bd72900-c12f-40d3-9e60-1e4b35daa486"
      },
      "source": [
        "y_pred = gnb.fit(X_train, y_train).predict(X_test)"
      ],
      "id": "vRk5diGe8lOp",
      "execution_count": null,
      "outputs": [
        {
          "output_type": "stream",
          "name": "stderr",
          "text": [
            "/usr/local/lib/python3.7/dist-packages/sklearn/utils/validation.py:968: FutureWarning: Arrays of bytes/strings is being converted to decimal numbers if dtype='numeric'. This behavior is deprecated in 0.24 and will be removed in 1.1 (renaming of 0.26). Please convert your data to numeric values explicitly instead.\n",
            "  estimator=estimator,\n",
            "/usr/local/lib/python3.7/dist-packages/sklearn/base.py:561: FutureWarning: Arrays of bytes/strings is being converted to decimal numbers if dtype='numeric'. This behavior is deprecated in 0.24 and will be removed in 1.1 (renaming of 0.26). Please convert your data to numeric values explicitly instead.\n",
            "  X = check_array(X, **check_params)\n"
          ]
        }
      ]
    },
    {
      "cell_type": "code",
      "metadata": {
        "colab": {
          "base_uri": "https://localhost:8080/"
        },
        "id": "Ym2dt_1l8n1w",
        "outputId": "37ea4b2a-ea51-48e3-915d-2b11dc79f0b6"
      },
      "source": [
        "print(\"Accuracy: \", len(np.argwhere(y_pred == y_test)) / len(y_test))"
      ],
      "id": "Ym2dt_1l8n1w",
      "execution_count": null,
      "outputs": [
        {
          "output_type": "stream",
          "name": "stdout",
          "text": [
            "Accuracy:  0.8403225806451613\n"
          ]
        }
      ]
    }
  ]
}