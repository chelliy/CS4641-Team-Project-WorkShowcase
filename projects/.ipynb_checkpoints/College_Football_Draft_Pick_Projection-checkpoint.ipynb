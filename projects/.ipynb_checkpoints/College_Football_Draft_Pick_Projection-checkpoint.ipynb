{
 "cells": [
  {
   "cell_type": "code",
   "execution_count": 1,
   "id": "6e78bf9e",
   "metadata": {
    "colab": {
     "base_uri": "https://localhost:8080/"
    },
    "id": "6e78bf9e",
    "outputId": "710bd65f-a49f-4b7b-bcec-786106f2ff7b"
   },
   "outputs": [],
   "source": [
    "import numpy as np\n",
    "import sklearn.metrics\n",
    "import matplotlib.pyplot as plt\n",
    "from sklearn.naive_bayes import MultinomialNB\n",
    "import csv"
   ]
  },
  {
   "cell_type": "markdown",
   "id": "sHATtstjBK4d",
   "metadata": {
    "id": "sHATtstjBK4d"
   },
   "source": [
    "## Data Preprocessing"
   ]
  },
  {
   "cell_type": "code",
   "execution_count": 2,
   "id": "NCPYUoIWBKQo",
   "metadata": {
    "id": "NCPYUoIWBKQo"
   },
   "outputs": [
    {
     "name": "stdout",
     "output_type": "stream",
     "text": [
      "[['Case Keenum' '57' '1546' ... '155' '46' '160.6']\n",
      " ['Luke Falk' '42' '1403' ... '119' '39' '142.8']\n",
      " ['Graham Harrell' '45' '1403' ... '134' '34' '154.4']\n",
      " ...\n",
      " ['Keenen Johnson' '41' '2' ... '0' '0' '115.1']\n",
      " ['Luke Johnson' '37' '2' ... '0' '0' '159.1']\n",
      " ['Zach Johnson' '39' '2' ... '0' '0' '205']]\n"
     ]
    }
   ],
   "source": [
    "all_college_qbs = np.array(np.zeros(9))\n",
    "with open('all_college_qbs.csv') as csv_file:\n",
    "    csv_reader = csv.reader(csv_file, delimiter=',')\n",
    "    line_count = 0\n",
    "    for row in csv_reader:\n",
    "      if (row[0] == \"\\ufeffCase Keenum\"):\n",
    "        row[0] = \"Case Keenum\"\n",
    "      all_college_qbs = np.vstack((all_college_qbs, row))\n",
    "all_college_qbs = all_college_qbs[1:]\n",
    "print(all_college_qbs)"
   ]
  },
  {
   "cell_type": "code",
   "execution_count": 3,
   "id": "WmmDt9duDOak",
   "metadata": {
    "id": "WmmDt9duDOak"
   },
   "outputs": [
    {
     "name": "stdout",
     "output_type": "stream",
     "text": [
      "[['Trevor Lawrence' '1']\n",
      " ['Zach Wilson' '2']\n",
      " ['Trey Lance' '3']\n",
      " ['Justin Fields' '11']\n",
      " ['Mac Jones' '15']\n",
      " ['Kyle Trask' '64']\n",
      " ['Kellen Mond' '66']\n",
      " ['Davis Mills' '67']\n",
      " ['Ian Book' '133']\n",
      " ['Sam Ehlinger' '218']\n",
      " ['Joe Burrow' '1']\n",
      " ['Tua Tagovailoa' '5']\n",
      " ['Justin Herbert' '6']\n",
      " ['Jordan Love' '26']\n",
      " ['Jalen Hurts' '53']\n",
      " ['Jacob Eason' '122']\n",
      " ['James Morgan' '125']\n",
      " ['Jake Fromm' '167']\n",
      " ['Jake Luton' '189']\n",
      " ['Cole McDonald' '224']\n",
      " ['Ben DiNucci' '231']\n",
      " ['Tommy Stevens' '240']\n",
      " ['Nate Stanley' '244']\n",
      " ['Kyler Murray' '1']\n",
      " ['Daniel Jones' '6']\n",
      " ['Dwayne Haskins' '15']\n",
      " ['Drew Lock' '42']\n",
      " ['Will Grier' '100']\n",
      " ['Ryan Finley' '104']\n",
      " ['Jarrett Stidham' '133']\n",
      " ['Easton Stick' '166']\n",
      " ['Clayton Thorson' '167']\n",
      " ['Gardner Minshew II' '178']\n",
      " ['Trace McSorley' '197']\n",
      " ['Baker Mayfield' '1']\n",
      " ['Sam Darnold' '3']\n",
      " ['Josh Allen' '7']\n",
      " ['Josh Rosen' '10']\n",
      " ['Lamar Jackson' '32']\n",
      " ['Mason Rudolph' '76']\n",
      " ['Kyle Lauletta' '108']\n",
      " ['Mike White' '171']\n",
      " ['Luke Falk' '199']\n",
      " ['Tanner Lee' '203']\n",
      " ['Danny Etling' '219']\n",
      " ['Alex McGough' '220']\n",
      " ['Logan Woodside' '249']\n",
      " ['Mitchell Trubisky' '2']\n",
      " ['Patrick Mahomes' '10']\n",
      " ['Deshaun Watson' '12']\n",
      " ['DeShone Kizer' '52']\n",
      " ['Davis Webb' '87']\n",
      " ['C.J. Beathard.00' '104']\n",
      " ['Joshua Dobbs' '135']\n",
      " ['Nathan Peterman' '171']\n",
      " ['Brad Kaaya' '215']\n",
      " ['Chad Kelly' '253']\n",
      " ['Jared Goff' '1']\n",
      " ['Carson Wentz' '2']\n",
      " ['Paxton Lynch' '26']\n",
      " ['Christian Hackenberg' '51']\n",
      " ['Jacoby Brissett' '91']\n",
      " ['Cody Kessler' '93']\n",
      " ['Connor Cook' '100']\n",
      " ['Dak Prescott' '135']\n",
      " ['Cardale Jones' '139']\n",
      " ['Kevin Hogan' '162']\n",
      " ['Nate Sudfeld' '187']\n",
      " ['Jake Rudock' '191']\n",
      " ['Brandon Allen' '201']\n",
      " ['Jeff Driskel' '207']\n",
      " ['Brandon Doughty' '223']\n",
      " ['Jameis Winston' '1']\n",
      " ['Marcus Mariota' '2']\n",
      " ['Garrett Grayson' '75']\n",
      " ['Sean Mannion' '89']\n",
      " ['Bryce Petty' '103']\n",
      " ['Brett Hundley' '147']\n",
      " ['Trevor Siemian' '250']\n",
      " ['Blake Bortles' '3']\n",
      " ['Johnny Manziel' '22']\n",
      " ['Teddy Bridgewater' '32']\n",
      " ['Derek Carr' '36']\n",
      " ['Jimmy Garoppolo' '62']\n",
      " ['Logan Thomas' '120']\n",
      " ['Tom Savage' '135']\n",
      " ['Aaron Murray' '163']\n",
      " ['A.J. McCarron.00' '164']\n",
      " ['Zach Mettenberger' '178']\n",
      " ['David Fales' '183']\n",
      " ['Keith Wenning' '194']\n",
      " ['Tajh Boyd' '213']\n",
      " ['Garrett Gilbert' '214']\n",
      " ['EJ Manuel' '16']\n",
      " ['Geno Smith' '39']\n",
      " ['Mike Glennon' '73']\n",
      " ['Matt Barkley' '98']\n",
      " ['Ryan Nassib' '110']\n",
      " ['Tyler Wilson' '112']\n",
      " ['Landry Jones' '115']\n",
      " ['Brad Sorensen' '221']\n",
      " ['Zac Dysert' '234']\n",
      " ['B.J. Daniels.00' '237']\n",
      " ['Sean Renfree' '249']\n",
      " ['Andrew Luck' '1']\n",
      " ['Robert Griffin III' '2']\n",
      " ['Ryan Tannehill' '8']\n",
      " ['Brandon Weeden' '22']\n",
      " ['Brock Osweiler' '57']\n",
      " ['Russell Wilson' '75']\n",
      " ['Nick Foles' '88']\n",
      " ['Kirk Cousins' '102']\n",
      " ['Ryan Lindley' '185']\n",
      " ['B.J. Coleman.00' '243']\n",
      " ['Chandler Harnish' '253']\n",
      " ['Cam Newton' '1']\n",
      " ['Jake Locker' '8']\n",
      " ['Blaine Gabbert' '10']\n",
      " ['Christian Ponder' '12']\n",
      " ['Andy Dalton' '35']\n",
      " ['Colin Kaepernick' '36']\n",
      " ['Ryan Mallett' '74']\n",
      " ['Ricky Stanzi' '135']\n",
      " ['T.J. Yates.00' '152']\n",
      " ['Nathan Enderle' '160']\n",
      " ['Tyrod Taylor' '180']\n",
      " ['Greg McElroy' '208']\n",
      " ['Sam Bradford' '1']\n",
      " ['Tim Tebow' '25']\n",
      " ['Jimmy Clausen' '48']\n",
      " ['Colt McCoy' '85']\n",
      " ['Mike Kafka' '122']\n",
      " ['John Skelton' '155']\n",
      " ['Jonathan Crompton' '168']\n",
      " ['Rusty Smith' '176']\n",
      " ['Dan LeFevour' '181']\n",
      " ['Tony Pike' '204']\n",
      " ['Levi Brown' '209']\n",
      " ['Sean Canfield' '239']\n",
      " ['Zac Robinson' '250']\n",
      " ['Matthew Stafford' '1']\n",
      " ['Mark Sanchez' '5']\n",
      " ['Josh Freeman' '17']\n",
      " ['Pat White' '44']\n",
      " ['Stephen McGee' '101']\n",
      " ['Rhett Bomar' '151']\n",
      " ['Nate Davis' '171']\n",
      " ['Tom Brandstater' '174']\n",
      " ['Mike Teel' '178']\n",
      " ['Keith Null' '196']\n",
      " ['Curtis Painter' '201']\n",
      " ['Matt Ryan' '3']\n",
      " ['Joe Flacco' '18']\n",
      " ['Brian Brohm' '56']\n",
      " ['Chad Henne' '57']\n",
      " [\"Kevin O'Connell\" '94']\n",
      " ['John David Booty' '137']\n",
      " ['Dennis Dixon' '156']\n",
      " ['Josh Johnson' '160']\n",
      " ['Erik Ainge' '162']\n",
      " ['Colt Brennan' '186']\n",
      " ['Andre Woodson' '198']\n",
      " ['Matt Flynn' '209']\n",
      " ['Alex Brink' '223']\n",
      " ['JaMarcus Russell' '1']\n",
      " ['Brady Quinn' '22']\n",
      " ['Kevin Kolb' '36']\n",
      " ['John Beck' '40']\n",
      " ['Drew Stanton' '43']\n",
      " ['Trent Edwards' '92']\n",
      " ['Isaiah Stanback' '103']\n",
      " ['Jeff Rowe' '151']\n",
      " ['Troy Smith' '174']\n",
      " ['Jordan Palmer' '205']\n",
      " ['Tyler Thigpen' '217']\n",
      " ['Vince Young' '3']\n",
      " ['Matt Leinart' '10']\n",
      " ['Jay Cutler' '11']\n",
      " ['Kellen Clemens' '49']\n",
      " ['Tarvaris Jackson' '64']\n",
      " ['Charlie Whitehurst' '81']\n",
      " ['Brodie Croyle' '85']\n",
      " ['Brad Smith' '103']\n",
      " ['Ingle Martin' '148']\n",
      " ['Omar Jacobs' '164']\n",
      " ['Reggie McNeal' '193']\n",
      " ['Bruce Gradkowski' '194']\n",
      " ['D.J. Shockley' '223']\n",
      " ['Alex Smith' '1']\n",
      " ['Aaron Rodgers' '24']\n",
      " ['Jason Campbell' '25']\n",
      " ['Charlie Frye' '67']\n",
      " ['Andrew Walter' '69']\n",
      " ['David Greene' '85']\n",
      " ['Kyle Orton' '106']\n",
      " ['Stefan Lefors' '121']\n",
      " ['Dan Orlovsky' '145']\n",
      " ['Adrian McPherson' '152']\n",
      " ['Derek Anderson' '213']\n",
      " ['James Kilian' '229']\n",
      " ['Matt Cassel' '230']\n",
      " ['Ryan Fitzpatrick' '250']\n",
      " ['Eli Manning' '1']\n",
      " ['Philip Rivers' '4']\n",
      " ['Ben Roethlisberger' '11']\n",
      " ['J.P. Losman.00' '22']\n",
      " ['Matt Schaub' '90']\n",
      " ['Luke McCown' '106']\n",
      " ['Craig Krenzel' '148']\n",
      " ['Andy Hall' '185']\n",
      " ['Josh Harris' '187']\n",
      " ['Jim Sorgi' '193']\n",
      " ['Jeff Smoker' '201']\n",
      " ['John Navarre' '202']\n",
      " ['Cody Pickett' '217']\n",
      " ['Casey Bramlet' '218']\n",
      " ['Matt Mauck' '225']\n",
      " ['B.J. Symons' '248']\n",
      " ['Bradlee Van Pelt' '250']\n",
      " ['Carson Palmer' '1']\n",
      " ['Byron Leftwich' '7']\n",
      " ['Kyle Boller' '19']\n",
      " ['Rex Grossman' '22']\n",
      " ['Dave Ragone' '88']\n",
      " ['Chris Simms' '97']\n",
      " ['Seneca Wallace' '110']\n",
      " ['Brian St. Pierre.PBr20' '163']\n",
      " ['Drew Henson' '192']\n",
      " ['Brooks Bollinger' '200']\n",
      " ['Kliff Kingsbury' '201']\n",
      " ['Gibran Hamdan' '232']\n",
      " ['Ken Dorsey' '241']\n",
      " ['David Carr' '1']\n",
      " ['Joey Harrington' '3']\n",
      " ['Patrick Ramsey' '32']\n",
      " ['Josh McCown' '81']\n",
      " ['David Garrard' '108']\n",
      " ['Rohan Davey' '117']\n",
      " ['Randy Fasani' '137']\n",
      " ['Kurt Kittner' '158']\n",
      " ['Brandon Doman' '163']\n",
      " ['Craig Nall' '164']\n",
      " [\"J.T. O'Sullivan.00\" '186']\n",
      " ['Steve Bellisari' '205']\n",
      " ['Seth Burford' '216']\n",
      " ['Jeff Kelly' '232']\n",
      " ['Wes Pate' '236']\n",
      " ['Michael Vick' '1']\n",
      " ['Drew Brees' '32']\n",
      " ['Quincy Carter' '53']\n",
      " ['Marques Tuiasosopo' '59']\n",
      " ['Chris Weinke' '106']\n",
      " ['Sage Rosenfels' '109']\n",
      " ['Jesse Palmer' '125']\n",
      " ['Mike McMahon' '149']\n",
      " ['A.J. Feeley.00' '155']\n",
      " ['Josh Booty' '172']\n",
      " ['Josh Heupel' '177']\n",
      " ['Chad Pennington' '18']\n",
      " ['Giovanni Carmazzi' '65']\n",
      " ['Chris Redman' '75']\n",
      " ['Tee Martin' '163']\n",
      " ['Marc Bulger' '168']\n",
      " ['Spergon Wynn' '183']\n",
      " ['Tom Brady' '199']\n",
      " ['Todd Husak' '202']\n",
      " ['JaJuan Seider' '205']\n",
      " ['Tim Rattay' '212']\n",
      " ['Jarious Jackson' '214']\n",
      " ['Joe Hamilton' '234']]\n"
     ]
    }
   ],
   "source": [
    "all_drafted_qbs = np.array(np.zeros(2))\n",
    "with open('all_drafted_qbs.csv') as csv_file:\n",
    "    csv_reader = csv.reader(csv_file, delimiter=',')\n",
    "    line_count = 0\n",
    "    for row in csv_reader:\n",
    "      if (row[0] == \"\\ufeffTrevor Lawrence\"):\n",
    "        row[0] = \"Trevor Lawrence\"\n",
    "      all_drafted_qbs = np.vstack((all_drafted_qbs, row))\n",
    "all_drafted_qbs = all_drafted_qbs[1:]\n",
    "print(all_drafted_qbs)"
   ]
  },
  {
   "cell_type": "code",
   "execution_count": 4,
   "id": "WMDy5alwDjPz",
   "metadata": {
    "colab": {
     "base_uri": "https://localhost:8080/",
     "height": 236
    },
    "id": "WMDy5alwDjPz",
    "outputId": "6f38612f-e57a-43f9-af6a-da37c773c4db"
   },
   "outputs": [
    {
     "name": "stdout",
     "output_type": "stream",
     "text": [
      "(230, 10)\n"
     ]
    }
   ],
   "source": [
    "new_all_drafted_qbs = np.zeros(10)\n",
    "for qb in all_college_qbs:\n",
    "    index = np.where(qb[0] == all_drafted_qbs[:,0])[0]\n",
    "    if all_drafted_qbs[index, 1].shape[0] > 0 :\n",
    "        new_row = np.append(qb, all_drafted_qbs[index, 1])\n",
    "        #print(new_row)\n",
    "        new_all_drafted_qbs = np.vstack((new_all_drafted_qbs, new_row))\n",
    "  #if qb[0] in all_drafted_qbs[:, 0]:\n",
    "    #new_row = np.concatenate((qb[0], all_college_qbs[qb[0] == all_college_qbs[:,0], 1:]))\n",
    "    #new_row = np.concatenate((new_row, qb[1]))\n",
    "    #new_all_drafted_qbs = np.vstack((new_all_drafted_qbs, new_row))\n",
    "new_all_drafted_qbs = new_all_drafted_qbs[1:]\n",
    "print(new_all_drafted_qbs.shape)"
   ]
  },
  {
   "cell_type": "code",
   "execution_count": 5,
   "id": "4ff20dce",
   "metadata": {},
   "outputs": [],
   "source": [
    "with open('quarterbacks.csv', 'w', newline='') as f:\n",
    "    writer = csv.writer(f)\n",
    "    writer.writerows(new_all_drafted_qbs)"
   ]
  },
  {
   "cell_type": "markdown",
   "id": "49773833",
   "metadata": {
    "id": "49773833"
   },
   "source": [
    "# Linear Regression"
   ]
  },
  {
   "cell_type": "markdown",
   "id": "414109de",
   "metadata": {
    "id": "414109de"
   },
   "source": [
    "## Quarterbacks"
   ]
  },
  {
   "cell_type": "code",
   "execution_count": null,
   "id": "517be7c8",
   "metadata": {
    "id": "517be7c8"
   },
   "outputs": [],
   "source": [
    "datasetQB = np.genfromtxt('quarterbacks.csv', delimiter=',')\n",
    "x = pcaReduce(datasetQB[1:,1:-1],2)\n",
    "y = datasetQB[1:,-1]\n",
    "weights = linear_fit_closed(x[:50, :],y[:50])\n"
   ]
  },
  {
   "cell_type": "code",
   "execution_count": null,
   "id": "7a13cb7c",
   "metadata": {
    "id": "7a13cb7c",
    "outputId": "7f9fad8d-3fea-4046-e05b-f28ca88e91f7"
   },
   "outputs": [
    {
     "name": "stdout",
     "output_type": "stream",
     "text": [
      "-0.3555291576622279\n"
     ]
    }
   ],
   "source": [
    "#weights = ridge_fit_closed(x[0:500,:],y[0:500],1.5)\n",
    "predictions = predict(x[50:,:], weights)\n",
    "error = sklearn.metrics.r2_score(y[50:],predictions)\n",
    "print(error)"
   ]
  },
  {
   "cell_type": "markdown",
   "id": "cbf745a1",
   "metadata": {
    "id": "cbf745a1"
   },
   "source": [
    "## Running Backs"
   ]
  },
  {
   "cell_type": "code",
   "execution_count": null,
   "id": "03b7fa0f",
   "metadata": {
    "id": "03b7fa0f"
   },
   "outputs": [],
   "source": [
    "datasetQB = np.genfromtxt('running_backs.csv', delimiter=',')\n",
    "x = pcaReduce(datasetQB[1:,1:-1],2)\n",
    "y = datasetQB[1:,-1]\n",
    "weights = linear_fit_closed(x[:70, :],y[:70])"
   ]
  },
  {
   "cell_type": "code",
   "execution_count": null,
   "id": "6ff99a51",
   "metadata": {
    "id": "6ff99a51",
    "outputId": "51f7f736-2ca7-4535-b864-1a8e92bf270d"
   },
   "outputs": [
    {
     "name": "stdout",
     "output_type": "stream",
     "text": [
      "-1.5027454850356414\n"
     ]
    }
   ],
   "source": [
    "weights = ridge_fit_closed(x[0:70,:],y[0:70],1.5)\n",
    "predictions = predict(x[70:,:], weights)\n",
    "error = sklearn.metrics.r2_score(y[70:],predictions)\n",
    "print(error)"
   ]
  },
  {
   "cell_type": "markdown",
   "id": "f37757b4",
   "metadata": {
    "id": "f37757b4"
   },
   "source": [
    "## Wide Receivers"
   ]
  },
  {
   "cell_type": "code",
   "execution_count": null,
   "id": "d1ce75de",
   "metadata": {
    "id": "d1ce75de"
   },
   "outputs": [],
   "source": [
    "datasetQB = np.genfromtxt('wide_receivers.csv', delimiter=',')\n",
    "x = pcaReduce(datasetQB[1:,1:-1],2)\n",
    "y = datasetQB[1:,-1]\n",
    "weights = linear_fit_closed(x[:150, :],y[:150])"
   ]
  },
  {
   "cell_type": "code",
   "execution_count": null,
   "id": "aea65125",
   "metadata": {
    "id": "aea65125",
    "outputId": "00d54c5d-9ac7-4a90-a052-23456fb93798"
   },
   "outputs": [
    {
     "name": "stdout",
     "output_type": "stream",
     "text": [
      "-0.8056000693211256\n"
     ]
    }
   ],
   "source": [
    "#weights = ridge_fit_closed(x[0:500,:],y[0:500],1.5)\n",
    "predictions = predict(x[150:,:], weights)\n",
    "error = sklearn.metrics.r2_score(y[150:],predictions)\n",
    "print(error)"
   ]
  },
  {
   "cell_type": "markdown",
   "id": "3067e8d3",
   "metadata": {
    "id": "3067e8d3"
   },
   "source": [
    "## Tight Ends"
   ]
  },
  {
   "cell_type": "code",
   "execution_count": null,
   "id": "076583a4",
   "metadata": {
    "id": "076583a4"
   },
   "outputs": [],
   "source": [
    "datasetQB = np.genfromtxt('tight_ends.csv', delimiter=',')\n",
    "x = pcaReduce(datasetQB[1:,1:-1],2)\n",
    "y = datasetQB[1:,-1]\n",
    "weights = linear_fit_closed(x[:50, :],y[:50])"
   ]
  },
  {
   "cell_type": "code",
   "execution_count": null,
   "id": "8f81016b",
   "metadata": {
    "id": "8f81016b",
    "outputId": "31bcec10-fca0-439e-853d-ab8f4347df33"
   },
   "outputs": [
    {
     "name": "stdout",
     "output_type": "stream",
     "text": [
      "-1.43705117854137\n"
     ]
    }
   ],
   "source": [
    "#weights = ridge_fit_closed(x[0:500,:],y[0:500],1.5)\n",
    "predictions = predict(x[50:,:], weights)\n",
    "error = sklearn.metrics.r2_score(y[50:],predictions)\n",
    "print(error)"
   ]
  },
  {
   "cell_type": "markdown",
   "id": "54fdb564",
   "metadata": {
    "id": "54fdb564"
   },
   "source": [
    "# Naive Bayes"
   ]
  },
  {
   "cell_type": "code",
   "execution_count": null,
   "id": "86c8bd96",
   "metadata": {
    "id": "86c8bd96",
    "outputId": "8f4a03c3-11ba-4832-e8a4-64f4395d9fb3"
   },
   "outputs": [
    {
     "ename": "ValueError",
     "evalue": "Negative values in data passed to MultinomialNB (input X)",
     "output_type": "error",
     "traceback": [
      "\u001b[0;31m---------------------------------------------------------------------------\u001b[0m",
      "\u001b[0;31mValueError\u001b[0m                                Traceback (most recent call last)",
      "\u001b[0;32m<ipython-input-52-45dfb0fa2f3a>\u001b[0m in \u001b[0;36m<module>\u001b[0;34m\u001b[0m\n\u001b[1;32m      3\u001b[0m \u001b[0my\u001b[0m \u001b[0;34m=\u001b[0m \u001b[0mdatasetQB\u001b[0m\u001b[0;34m[\u001b[0m\u001b[0;36m1\u001b[0m\u001b[0;34m:\u001b[0m\u001b[0;34m,\u001b[0m \u001b[0;34m-\u001b[0m\u001b[0;36m1\u001b[0m\u001b[0;34m]\u001b[0m\u001b[0;34m\u001b[0m\u001b[0;34m\u001b[0m\u001b[0m\n\u001b[1;32m      4\u001b[0m \u001b[0mclf\u001b[0m \u001b[0;34m=\u001b[0m \u001b[0mMultinomialNB\u001b[0m\u001b[0;34m(\u001b[0m\u001b[0;34m)\u001b[0m\u001b[0;34m\u001b[0m\u001b[0;34m\u001b[0m\u001b[0m\n\u001b[0;32m----> 5\u001b[0;31m \u001b[0mclf\u001b[0m\u001b[0;34m.\u001b[0m\u001b[0mfit\u001b[0m\u001b[0;34m(\u001b[0m\u001b[0mx\u001b[0m\u001b[0;34m[\u001b[0m\u001b[0;34m:\u001b[0m\u001b[0;36m50\u001b[0m\u001b[0;34m,\u001b[0m\u001b[0;34m:\u001b[0m\u001b[0;34m]\u001b[0m\u001b[0;34m,\u001b[0m\u001b[0my\u001b[0m\u001b[0;34m[\u001b[0m\u001b[0;34m:\u001b[0m\u001b[0;36m50\u001b[0m\u001b[0;34m]\u001b[0m\u001b[0;34m)\u001b[0m\u001b[0;34m\u001b[0m\u001b[0;34m\u001b[0m\u001b[0m\n\u001b[0m\u001b[1;32m      6\u001b[0m \u001b[0mprint\u001b[0m\u001b[0;34m(\u001b[0m\u001b[0mclf\u001b[0m\u001b[0;34m.\u001b[0m\u001b[0mpredict\u001b[0m\u001b[0;34m(\u001b[0m\u001b[0mx\u001b[0m\u001b[0;34m[\u001b[0m\u001b[0;36m50\u001b[0m\u001b[0;34m:\u001b[0m\u001b[0;34m,\u001b[0m \u001b[0;34m:\u001b[0m\u001b[0;34m]\u001b[0m\u001b[0;34m)\u001b[0m\u001b[0;34m)\u001b[0m\u001b[0;34m\u001b[0m\u001b[0;34m\u001b[0m\u001b[0m\n",
      "\u001b[0;32m/opt/anaconda3/lib/python3.8/site-packages/sklearn/naive_bayes.py\u001b[0m in \u001b[0;36mfit\u001b[0;34m(self, X, y, sample_weight)\u001b[0m\n\u001b[1;32m    636\u001b[0m \u001b[0;34m\u001b[0m\u001b[0m\n\u001b[1;32m    637\u001b[0m         \u001b[0mself\u001b[0m\u001b[0;34m.\u001b[0m\u001b[0m_init_counters\u001b[0m\u001b[0;34m(\u001b[0m\u001b[0mn_effective_classes\u001b[0m\u001b[0;34m,\u001b[0m \u001b[0mn_features\u001b[0m\u001b[0;34m)\u001b[0m\u001b[0;34m\u001b[0m\u001b[0;34m\u001b[0m\u001b[0m\n\u001b[0;32m--> 638\u001b[0;31m         \u001b[0mself\u001b[0m\u001b[0;34m.\u001b[0m\u001b[0m_count\u001b[0m\u001b[0;34m(\u001b[0m\u001b[0mX\u001b[0m\u001b[0;34m,\u001b[0m \u001b[0mY\u001b[0m\u001b[0;34m)\u001b[0m\u001b[0;34m\u001b[0m\u001b[0;34m\u001b[0m\u001b[0m\n\u001b[0m\u001b[1;32m    639\u001b[0m         \u001b[0malpha\u001b[0m \u001b[0;34m=\u001b[0m \u001b[0mself\u001b[0m\u001b[0;34m.\u001b[0m\u001b[0m_check_alpha\u001b[0m\u001b[0;34m(\u001b[0m\u001b[0;34m)\u001b[0m\u001b[0;34m\u001b[0m\u001b[0;34m\u001b[0m\u001b[0m\n\u001b[1;32m    640\u001b[0m         \u001b[0mself\u001b[0m\u001b[0;34m.\u001b[0m\u001b[0m_update_feature_log_prob\u001b[0m\u001b[0;34m(\u001b[0m\u001b[0malpha\u001b[0m\u001b[0;34m)\u001b[0m\u001b[0;34m\u001b[0m\u001b[0;34m\u001b[0m\u001b[0m\n",
      "\u001b[0;32m/opt/anaconda3/lib/python3.8/site-packages/sklearn/naive_bayes.py\u001b[0m in \u001b[0;36m_count\u001b[0;34m(self, X, Y)\u001b[0m\n\u001b[1;32m    769\u001b[0m     \u001b[0;32mdef\u001b[0m \u001b[0m_count\u001b[0m\u001b[0;34m(\u001b[0m\u001b[0mself\u001b[0m\u001b[0;34m,\u001b[0m \u001b[0mX\u001b[0m\u001b[0;34m,\u001b[0m \u001b[0mY\u001b[0m\u001b[0;34m)\u001b[0m\u001b[0;34m:\u001b[0m\u001b[0;34m\u001b[0m\u001b[0;34m\u001b[0m\u001b[0m\n\u001b[1;32m    770\u001b[0m         \u001b[0;34m\"\"\"Count and smooth feature occurrences.\"\"\"\u001b[0m\u001b[0;34m\u001b[0m\u001b[0;34m\u001b[0m\u001b[0m\n\u001b[0;32m--> 771\u001b[0;31m         \u001b[0mcheck_non_negative\u001b[0m\u001b[0;34m(\u001b[0m\u001b[0mX\u001b[0m\u001b[0;34m,\u001b[0m \u001b[0;34m\"MultinomialNB (input X)\"\u001b[0m\u001b[0;34m)\u001b[0m\u001b[0;34m\u001b[0m\u001b[0;34m\u001b[0m\u001b[0m\n\u001b[0m\u001b[1;32m    772\u001b[0m         \u001b[0mself\u001b[0m\u001b[0;34m.\u001b[0m\u001b[0mfeature_count_\u001b[0m \u001b[0;34m+=\u001b[0m \u001b[0msafe_sparse_dot\u001b[0m\u001b[0;34m(\u001b[0m\u001b[0mY\u001b[0m\u001b[0;34m.\u001b[0m\u001b[0mT\u001b[0m\u001b[0;34m,\u001b[0m \u001b[0mX\u001b[0m\u001b[0;34m)\u001b[0m\u001b[0;34m\u001b[0m\u001b[0;34m\u001b[0m\u001b[0m\n\u001b[1;32m    773\u001b[0m         \u001b[0mself\u001b[0m\u001b[0;34m.\u001b[0m\u001b[0mclass_count_\u001b[0m \u001b[0;34m+=\u001b[0m \u001b[0mY\u001b[0m\u001b[0;34m.\u001b[0m\u001b[0msum\u001b[0m\u001b[0;34m(\u001b[0m\u001b[0maxis\u001b[0m\u001b[0;34m=\u001b[0m\u001b[0;36m0\u001b[0m\u001b[0;34m)\u001b[0m\u001b[0;34m\u001b[0m\u001b[0;34m\u001b[0m\u001b[0m\n",
      "\u001b[0;32m/opt/anaconda3/lib/python3.8/site-packages/sklearn/utils/validation.py\u001b[0m in \u001b[0;36mcheck_non_negative\u001b[0;34m(X, whom)\u001b[0m\n\u001b[1;32m   1066\u001b[0m \u001b[0;34m\u001b[0m\u001b[0m\n\u001b[1;32m   1067\u001b[0m     \u001b[0;32mif\u001b[0m \u001b[0mX_min\u001b[0m \u001b[0;34m<\u001b[0m \u001b[0;36m0\u001b[0m\u001b[0;34m:\u001b[0m\u001b[0;34m\u001b[0m\u001b[0;34m\u001b[0m\u001b[0m\n\u001b[0;32m-> 1068\u001b[0;31m         \u001b[0;32mraise\u001b[0m \u001b[0mValueError\u001b[0m\u001b[0;34m(\u001b[0m\u001b[0;34m\"Negative values in data passed to %s\"\u001b[0m \u001b[0;34m%\u001b[0m \u001b[0mwhom\u001b[0m\u001b[0;34m)\u001b[0m\u001b[0;34m\u001b[0m\u001b[0;34m\u001b[0m\u001b[0m\n\u001b[0m\u001b[1;32m   1069\u001b[0m \u001b[0;34m\u001b[0m\u001b[0m\n\u001b[1;32m   1070\u001b[0m \u001b[0;34m\u001b[0m\u001b[0m\n",
      "\u001b[0;31mValueError\u001b[0m: Negative values in data passed to MultinomialNB (input X)"
     ]
    }
   ],
   "source": []
  },
  {
   "cell_type": "code",
   "execution_count": null,
   "id": "59a0d7b0",
   "metadata": {
    "id": "59a0d7b0"
   },
   "outputs": [],
   "source": []
  }
 ],
 "metadata": {
  "colab": {
   "name": "College Football Draft Pick Projection.ipynb",
   "provenance": []
  },
  "kernelspec": {
   "display_name": "Python 3",
   "language": "python",
   "name": "python3"
  },
  "language_info": {
   "codemirror_mode": {
    "name": "ipython",
    "version": 3
   },
   "file_extension": ".py",
   "mimetype": "text/x-python",
   "name": "python",
   "nbconvert_exporter": "python",
   "pygments_lexer": "ipython3",
   "version": "3.8.8"
  }
 },
 "nbformat": 4,
 "nbformat_minor": 5
}
